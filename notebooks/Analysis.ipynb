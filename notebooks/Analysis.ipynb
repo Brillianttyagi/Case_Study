{
  "nbformat": 4,
  "nbformat_minor": 0,
  "metadata": {
    "colab": {
      "provenance": []
    },
    "kernelspec": {
      "name": "python3",
      "display_name": "Python 3"
    },
    "language_info": {
      "name": "python"
    }
  },
  "cells": [
    {
      "cell_type": "code",
      "execution_count": null,
      "metadata": {
        "colab": {
          "base_uri": "https://localhost:8080/"
        },
        "id": "pU3RsGCRGqz3",
        "outputId": "8f50144f-7ff1-44de-eef5-ea704cd7ac99"
      },
      "outputs": [
        {
          "output_type": "stream",
          "name": "stdout",
          "text": [
            "Collecting pyspark\n",
            "  Downloading pyspark-3.5.1.tar.gz (317.0 MB)\n",
            "\u001b[2K     \u001b[90m━━━━━━━━━━━━━━━━━━━━━━━━━━━━━━━━━━━━━━━━\u001b[0m \u001b[32m317.0/317.0 MB\u001b[0m \u001b[31m3.9 MB/s\u001b[0m eta \u001b[36m0:00:00\u001b[0m\n",
            "\u001b[?25h  Preparing metadata (setup.py) ... \u001b[?25l\u001b[?25hdone\n",
            "Requirement already satisfied: py4j==0.10.9.7 in /usr/local/lib/python3.10/dist-packages (from pyspark) (0.10.9.7)\n",
            "Building wheels for collected packages: pyspark\n",
            "  Building wheel for pyspark (setup.py) ... \u001b[?25l\u001b[?25hdone\n",
            "  Created wheel for pyspark: filename=pyspark-3.5.1-py2.py3-none-any.whl size=317488493 sha256=9f284bd2b7ff31e55b544fee33a982bd78c533d6691dfb068ee7f8ce9c02f3c3\n",
            "  Stored in directory: /root/.cache/pip/wheels/80/1d/60/2c256ed38dddce2fdd93be545214a63e02fbd8d74fb0b7f3a6\n",
            "Successfully built pyspark\n",
            "Installing collected packages: pyspark\n",
            "Successfully installed pyspark-3.5.1\n"
          ]
        }
      ],
      "source": [
        "!pip install pyspark"
      ]
    },
    {
      "cell_type": "code",
      "source": [
        "from pyspark.sql import SparkSession\n",
        "\n",
        "# Create a Spark session\n",
        "spark = SparkSession.builder \\\n",
        "    .appName(\"Analysis\") \\\n",
        "    .getOrCreate()"
      ],
      "metadata": {
        "id": "SEw87_LuHHHl"
      },
      "execution_count": null,
      "outputs": []
    },
    {
      "cell_type": "code",
      "source": [
        "charges_use = spark.read.csv(\"/content/Charges_use.csv\", header = True, inferSchema = True)"
      ],
      "metadata": {
        "id": "UNC2Y1D6HrmN"
      },
      "execution_count": null,
      "outputs": []
    },
    {
      "cell_type": "code",
      "source": [
        "charges_use.show()"
      ],
      "metadata": {
        "colab": {
          "base_uri": "https://localhost:8080/"
        },
        "id": "Mx1Ii4kSH4t0",
        "outputId": "3c40bc68-d857-48c6-c167-9b76e86e7bd5"
      },
      "execution_count": null,
      "outputs": [
        {
          "output_type": "stream",
          "name": "stdout",
          "text": [
            "+--------+--------+--------+--------------------+------------+\n",
            "|CRASH_ID|UNIT_NBR|PRSN_NBR|              CHARGE|CITATION_NBR|\n",
            "+--------+--------+--------+--------------------+------------+\n",
            "|14768622|       1|       1|DRIVING WHILE INT...|        NULL|\n",
            "|14838637|       1|       1|                 DWI|  1600000015|\n",
            "|14838641|       1|       1|RAN RED LIGHT SOL...|      L20440|\n",
            "|14838641|       2|       1|NO DRIVER'S LICEN...|      L23141|\n",
            "|14838668|       1|       1|DRIVING WHILE INT...|TX4IC50SRJD3|\n",
            "|14838669|       2|       1|     DWI W/BAC >.015| 2015-000006|\n",
            "|14838670|       1|       1|DRIVING WHILE INT...| 2016-000003|\n",
            "|14838685|       1|       1|FAILED TO DRIVE S...|   138434825|\n",
            "|14838693|       1|       1|DRIVING WHILE INT...|TX4IC60UKQND|\n",
            "|14838768|       2|       1|                 DWI|        NULL|\n",
            "|14838834|       1|       1|  NO DRIVERS LICENSE|    10019200|\n",
            "|14838834|       1|       1|FAIL TO CONTROL S...|    10019200|\n",
            "|14838834|       1|       1|   LEAVING THE SCENE|    10019200|\n",
            "|14838841|       1|       1|       FTLI   / DWLI|    16-43861|\n",
            "|14838841|       1|       1|LEAVING SCENE OF ...|    16-43861|\n",
            "|14838841|       1|       1|FAIL TO DRIVE IN ...|    16-43861|\n",
            "|14838841|       1|       1|FAIL TO REPORT AC...|    16-43861|\n",
            "|14838842|       1|       1|LEAVING SCENE OF ...|    16-43859|\n",
            "|14838842|       1|       1|FAIL TO REPORT AC...|    16-43859|\n",
            "|14838842|       1|       1|FAIL TO DRIVE IN ...|    16-43859|\n",
            "+--------+--------+--------+--------------------+------------+\n",
            "only showing top 20 rows\n",
            "\n"
          ]
        }
      ]
    },
    {
      "cell_type": "code",
      "source": [
        "damages_use = spark.read.csv(\"/content/Damages_use.csv\", header = True, inferSchema = True)\n",
        "damages_use.show()"
      ],
      "metadata": {
        "colab": {
          "base_uri": "https://localhost:8080/"
        },
        "id": "B2A1Ubs5H58j",
        "outputId": "0c29f807-8539-48a1-e274-c5fb32046f1e"
      },
      "execution_count": null,
      "outputs": [
        {
          "output_type": "stream",
          "name": "stdout",
          "text": [
            "+--------+--------------------+\n",
            "|CRASH_ID|    DAMAGED_PROPERTY|\n",
            "+--------+--------------------+\n",
            "|14768622|             MAILBOX|\n",
            "|14768622|         YARD, GRASS|\n",
            "|14838668|           GUARDRAIL|\n",
            "|14838685|           ROAD SIGN|\n",
            "|14838693|        2009 MAZDA 3|\n",
            "|14838834|    CHAIN LINK FENCE|\n",
            "|14838841|WOODED POLE ON SO...|\n",
            "|14838842|CITY SIGN FOR TUR...|\n",
            "|14838877|    FENCE-CHAIN LINK|\n",
            "|14838977|LANDSCAPING AND M...|\n",
            "|14839047|  APARTMENT BUILDING|\n",
            "|14839047|         STREET SIGN|\n",
            "|14839048|               HOUSE|\n",
            "|14839314|          LIGHT POLE|\n",
            "|14839330|MINOR DAMAGE TO W...|\n",
            "|14839442|CITY OF SAN ANTON...|\n",
            "|14839472|         METAL POLES|\n",
            "|14839517|    WATER ATTENUATOR|\n",
            "|14839519|        UTILITY POST|\n",
            "|14839551|30 FEET OF GUARDRAIL|\n",
            "+--------+--------------------+\n",
            "only showing top 20 rows\n",
            "\n"
          ]
        }
      ]
    },
    {
      "cell_type": "code",
      "source": [
        "endorse_use = spark.read.csv(\"/content/Endorse_use.csv\", header = True, inferSchema = True)\n",
        "endorse_use.show()"
      ],
      "metadata": {
        "colab": {
          "base_uri": "https://localhost:8080/"
        },
        "id": "EQCEgNPlIIVu",
        "outputId": "7cd03e8d-475d-492f-a296-1fa201ee515d"
      },
      "execution_count": null,
      "outputs": [
        {
          "output_type": "stream",
          "name": "stdout",
          "text": [
            "+--------+--------+------------------+\n",
            "|CRASH_ID|UNIT_NBR|DRVR_LIC_ENDORS_ID|\n",
            "+--------+--------+------------------+\n",
            "|14768622|       1|              NONE|\n",
            "|14838637|       1|              NONE|\n",
            "|14838637|       2|              NONE|\n",
            "|14838641|       1|              NONE|\n",
            "|14838641|       2|        UNLICENSED|\n",
            "|14838668|       1|              NONE|\n",
            "|14838669|       1|              NONE|\n",
            "|14838669|       2|              NONE|\n",
            "|14838670|       1|              NONE|\n",
            "|14838685|       1|        UNLICENSED|\n",
            "|14838693|       1|              NONE|\n",
            "|14838768|       1|OTHER/OUT OF STATE|\n",
            "|14838768|       2|              NONE|\n",
            "|14838834|       1|           UNKNOWN|\n",
            "|14838841|       1|              NONE|\n",
            "|14838842|       1|              NONE|\n",
            "|14838842|       2|              NONE|\n",
            "|14838866|       1|              NONE|\n",
            "|14838877|       1|              NONE|\n",
            "|14838972|       1|              NONE|\n",
            "+--------+--------+------------------+\n",
            "only showing top 20 rows\n",
            "\n"
          ]
        }
      ]
    },
    {
      "cell_type": "code",
      "source": [
        "primary_person_use = spark.read.csv(\"/content/Primary_Person_use.csv\", header = True, inferSchema = True)\n",
        "primary_person_use.printSchema()"
      ],
      "metadata": {
        "colab": {
          "base_uri": "https://localhost:8080/"
        },
        "id": "JZBZA02AIQSm",
        "outputId": "ab870a70-25c3-4e87-c29a-50ccd7d6fb2d"
      },
      "execution_count": null,
      "outputs": [
        {
          "output_type": "stream",
          "name": "stdout",
          "text": [
            "root\n",
            " |-- CRASH_ID: integer (nullable = true)\n",
            " |-- UNIT_NBR: integer (nullable = true)\n",
            " |-- PRSN_NBR: integer (nullable = true)\n",
            " |-- PRSN_TYPE_ID: string (nullable = true)\n",
            " |-- PRSN_OCCPNT_POS_ID: string (nullable = true)\n",
            " |-- PRSN_INJRY_SEV_ID: string (nullable = true)\n",
            " |-- PRSN_AGE: string (nullable = true)\n",
            " |-- PRSN_ETHNICITY_ID: string (nullable = true)\n",
            " |-- PRSN_GNDR_ID: string (nullable = true)\n",
            " |-- PRSN_EJCT_ID: string (nullable = true)\n",
            " |-- PRSN_REST_ID: string (nullable = true)\n",
            " |-- PRSN_AIRBAG_ID: string (nullable = true)\n",
            " |-- PRSN_HELMET_ID: string (nullable = true)\n",
            " |-- PRSN_SOL_FL: string (nullable = true)\n",
            " |-- PRSN_ALC_SPEC_TYPE_ID: string (nullable = true)\n",
            " |-- PRSN_ALC_RSLT_ID: string (nullable = true)\n",
            " |-- PRSN_BAC_TEST_RSLT: string (nullable = true)\n",
            " |-- PRSN_DRG_SPEC_TYPE_ID: string (nullable = true)\n",
            " |-- PRSN_DRG_RSLT_ID: string (nullable = true)\n",
            " |-- DRVR_DRG_CAT_1_ID: string (nullable = true)\n",
            " |-- PRSN_DEATH_TIME: timestamp (nullable = true)\n",
            " |-- INCAP_INJRY_CNT: integer (nullable = true)\n",
            " |-- NONINCAP_INJRY_CNT: integer (nullable = true)\n",
            " |-- POSS_INJRY_CNT: integer (nullable = true)\n",
            " |-- NON_INJRY_CNT: integer (nullable = true)\n",
            " |-- UNKN_INJRY_CNT: integer (nullable = true)\n",
            " |-- TOT_INJRY_CNT: integer (nullable = true)\n",
            " |-- DEATH_CNT: integer (nullable = true)\n",
            " |-- DRVR_LIC_TYPE_ID: string (nullable = true)\n",
            " |-- DRVR_LIC_STATE_ID: string (nullable = true)\n",
            " |-- DRVR_LIC_CLS_ID: string (nullable = true)\n",
            " |-- DRVR_ZIP: string (nullable = true)\n",
            "\n"
          ]
        }
      ]
    },
    {
      "cell_type": "code",
      "source": [
        "restrict_use = spark.read.csv(\"/content/Restrict_use.csv\", header = True, inferSchema = True)\n",
        "restrict_use.show()"
      ],
      "metadata": {
        "colab": {
          "base_uri": "https://localhost:8080/"
        },
        "id": "MefWyziTIXHi",
        "outputId": "ec66de4e-8f2a-4b4b-8242-7935d53a032f"
      },
      "execution_count": null,
      "outputs": [
        {
          "output_type": "stream",
          "name": "stdout",
          "text": [
            "+--------+--------+--------------------+\n",
            "|CRASH_ID|UNIT_NBR| DRVR_LIC_RESTRIC_ID|\n",
            "+--------+--------+--------------------+\n",
            "|14768622|       1|                NONE|\n",
            "|14838637|       1|  OTHER/OUT OF STATE|\n",
            "|14838637|       2|                NONE|\n",
            "|14838641|       1|WITH CORRECTIVE L...|\n",
            "|14838641|       2|          UNLICENSED|\n",
            "|14838668|       1|                NONE|\n",
            "|14838669|       1|                NONE|\n",
            "|14838669|       2|WITH CORRECTIVE L...|\n",
            "|14838670|       1|                NONE|\n",
            "|14838685|       1|          UNLICENSED|\n",
            "|14838693|       1|                NONE|\n",
            "|14838768|       1|  OTHER/OUT OF STATE|\n",
            "|14838768|       2|WITH CORRECTIVE L...|\n",
            "|14838834|       1|             UNKNOWN|\n",
            "|14838841|       1|WITH CORRECTIVE L...|\n",
            "|14838842|       1|                NONE|\n",
            "|14838842|       2|                NONE|\n",
            "|14838866|       1|                NONE|\n",
            "|14838877|       1|                NONE|\n",
            "|14838972|       1|                NONE|\n",
            "+--------+--------+--------------------+\n",
            "only showing top 20 rows\n",
            "\n"
          ]
        }
      ]
    },
    {
      "cell_type": "code",
      "source": [
        "units_use = spark.read.csv(\"/content/Units_use.csv\", header = True, inferSchema = True)\n",
        "units_use.printSchema()"
      ],
      "metadata": {
        "colab": {
          "base_uri": "https://localhost:8080/"
        },
        "id": "1lN3Y3E7ImUR",
        "outputId": "c3af60fa-e461-4095-be26-bca897349608"
      },
      "execution_count": null,
      "outputs": [
        {
          "output_type": "stream",
          "name": "stdout",
          "text": [
            "root\n",
            " |-- CRASH_ID: integer (nullable = true)\n",
            " |-- UNIT_NBR: integer (nullable = true)\n",
            " |-- UNIT_DESC_ID: string (nullable = true)\n",
            " |-- VEH_PARKED_FL: string (nullable = true)\n",
            " |-- VEH_HNR_FL: string (nullable = true)\n",
            " |-- VEH_LIC_STATE_ID: string (nullable = true)\n",
            " |-- VIN: string (nullable = true)\n",
            " |-- VEH_MOD_YEAR: string (nullable = true)\n",
            " |-- VEH_COLOR_ID: string (nullable = true)\n",
            " |-- VEH_MAKE_ID: string (nullable = true)\n",
            " |-- VEH_MOD_ID: string (nullable = true)\n",
            " |-- VEH_BODY_STYL_ID: string (nullable = true)\n",
            " |-- EMER_RESPNDR_FL: string (nullable = true)\n",
            " |-- OWNR_ZIP: string (nullable = true)\n",
            " |-- FIN_RESP_PROOF_ID: string (nullable = true)\n",
            " |-- FIN_RESP_TYPE_ID: string (nullable = true)\n",
            " |-- VEH_DMAG_AREA_1_ID: string (nullable = true)\n",
            " |-- VEH_DMAG_SCL_1_ID: string (nullable = true)\n",
            " |-- FORCE_DIR_1_ID: string (nullable = true)\n",
            " |-- VEH_DMAG_AREA_2_ID: string (nullable = true)\n",
            " |-- VEH_DMAG_SCL_2_ID: string (nullable = true)\n",
            " |-- FORCE_DIR_2_ID: string (nullable = true)\n",
            " |-- VEH_INVENTORIED_FL: string (nullable = true)\n",
            " |-- VEH_TRANSP_NAME: string (nullable = true)\n",
            " |-- VEH_TRANSP_DEST: string (nullable = true)\n",
            " |-- CONTRIB_FACTR_1_ID: string (nullable = true)\n",
            " |-- CONTRIB_FACTR_2_ID: string (nullable = true)\n",
            " |-- CONTRIB_FACTR_P1_ID: string (nullable = true)\n",
            " |-- VEH_TRVL_DIR_ID: string (nullable = true)\n",
            " |-- FIRST_HARM_EVT_INV_ID: string (nullable = true)\n",
            " |-- INCAP_INJRY_CNT: integer (nullable = true)\n",
            " |-- NONINCAP_INJRY_CNT: integer (nullable = true)\n",
            " |-- POSS_INJRY_CNT: integer (nullable = true)\n",
            " |-- NON_INJRY_CNT: integer (nullable = true)\n",
            " |-- UNKN_INJRY_CNT: integer (nullable = true)\n",
            " |-- TOT_INJRY_CNT: integer (nullable = true)\n",
            " |-- DEATH_CNT: integer (nullable = true)\n",
            "\n"
          ]
        }
      ]
    },
    {
      "cell_type": "code",
      "source": [
        "# 1.\tAnalytics 1: Find the number of crashes (accidents) in which number of males killed are greater than 2?"
      ],
      "metadata": {
        "id": "DTanvneeJgku"
      },
      "execution_count": null,
      "outputs": []
    },
    {
      "cell_type": "code",
      "source": [
        "primary_person_use.select(\"PRSN_GNDR_ID\").distinct().show()"
      ],
      "metadata": {
        "colab": {
          "base_uri": "https://localhost:8080/"
        },
        "id": "tG4WtWM0RmGI",
        "outputId": "ed79a791-62b4-493f-852d-fcad927e9cae"
      },
      "execution_count": null,
      "outputs": [
        {
          "output_type": "stream",
          "name": "stdout",
          "text": [
            "+------------+\n",
            "|PRSN_GNDR_ID|\n",
            "+------------+\n",
            "|          NA|\n",
            "|     UNKNOWN|\n",
            "|        MALE|\n",
            "|      FEMALE|\n",
            "+------------+\n",
            "\n"
          ]
        }
      ]
    },
    {
      "cell_type": "code",
      "source": [
        "from pyspark.sql.functions import col\n",
        "\n",
        "def count_crashes_where_males_killed(df):\n",
        "    return df.filter((col(\"DEATH_CNT\") > 2) & (col(\"PRSN_GNDR_ID\") == \"MALE\")).count()\n"
      ],
      "metadata": {
        "id": "OrJB4E0SQjLj"
      },
      "execution_count": null,
      "outputs": []
    },
    {
      "cell_type": "code",
      "source": [
        "print(count_crashes_where_males_killed(primary_person_use))"
      ],
      "metadata": {
        "colab": {
          "base_uri": "https://localhost:8080/"
        },
        "id": "D5emlJZVKKOw",
        "outputId": "d5ce8d74-0654-4956-ce66-44d6db9dbe8c"
      },
      "execution_count": null,
      "outputs": [
        {
          "output_type": "stream",
          "name": "stdout",
          "text": [
            "0\n"
          ]
        }
      ]
    },
    {
      "cell_type": "code",
      "source": [
        "# Analysis 2: How many two wheelers are booked for crashes?"
      ],
      "metadata": {
        "id": "m3bgaqNCQ9bQ"
      },
      "execution_count": null,
      "outputs": []
    },
    {
      "cell_type": "code",
      "source": [
        "units_use.select(\"UNIT_DESC_ID\").distinct().show()"
      ],
      "metadata": {
        "colab": {
          "base_uri": "https://localhost:8080/"
        },
        "id": "_DSlVpHVTNXe",
        "outputId": "25d0262e-a419-4c9d-9f03-a622c29be37a"
      },
      "execution_count": null,
      "outputs": [
        {
          "output_type": "stream",
          "name": "stdout",
          "text": [
            "+--------------------+\n",
            "|        UNIT_DESC_ID|\n",
            "+--------------------+\n",
            "|          PEDESTRIAN|\n",
            "|         NON-CONTACT|\n",
            "|               TRAIN|\n",
            "|       MOTOR VEHICLE|\n",
            "|MOTORIZED CONVEYANCE|\n",
            "|OTHER  (EXPLAIN I...|\n",
            "|        PEDALCYCLIST|\n",
            "|       TOWED/TRAILER|\n",
            "+--------------------+\n",
            "\n"
          ]
        }
      ]
    },
    {
      "cell_type": "code",
      "source": [
        "units_use.select(\"VEH_BODY_STYL_ID\").distinct().show()"
      ],
      "metadata": {
        "colab": {
          "base_uri": "https://localhost:8080/"
        },
        "id": "yv8v7XzpXNUK",
        "outputId": "663bbd01-044b-4ab6-ba95-cfbf271ec46c"
      },
      "execution_count": null,
      "outputs": [
        {
          "output_type": "stream",
          "name": "stdout",
          "text": [
            "+--------------------+\n",
            "|    VEH_BODY_STYL_ID|\n",
            "+--------------------+\n",
            "|                 BUS|\n",
            "|                  NA|\n",
            "|                 VAN|\n",
            "|              PICKUP|\n",
            "|SPORT UTILITY VEH...|\n",
            "|PASSENGER CAR, 4-...|\n",
            "|          FIRE TRUCK|\n",
            "|               TRUCK|\n",
            "|             UNKNOWN|\n",
            "|           AMBULANCE|\n",
            "|    POLICE CAR/TRUCK|\n",
            "|          MOTORCYCLE|\n",
            "|   YELLOW SCHOOL BUS|\n",
            "|   POLICE MOTORCYCLE|\n",
            "|PASSENGER CAR, 2-...|\n",
            "|       TRUCK TRACTOR|\n",
            "|      FARM EQUIPMENT|\n",
            "|NEV-NEIGHBORHOOD ...|\n",
            "|OTHER  (EXPLAIN I...|\n",
            "|        NOT REPORTED|\n",
            "+--------------------+\n",
            "\n"
          ]
        }
      ]
    },
    {
      "cell_type": "code",
      "source": [
        "def count_two_wheelers_crashes(df):\n",
        "  return df.filter(col(\"VEH_BODY_STYL_ID\").contains(\"MOTORCYCLE\")).count()"
      ],
      "metadata": {
        "id": "L4ASiR7XW5gp"
      },
      "execution_count": null,
      "outputs": []
    },
    {
      "cell_type": "code",
      "source": [
        "print(count_two_wheelers_crashes(units_use))"
      ],
      "metadata": {
        "colab": {
          "base_uri": "https://localhost:8080/"
        },
        "id": "UBAI1k3QXila",
        "outputId": "97c21ad1-0b6a-4eb8-c7df-ec7c915b5314"
      },
      "execution_count": null,
      "outputs": [
        {
          "output_type": "stream",
          "name": "stdout",
          "text": [
            "784\n"
          ]
        }
      ]
    },
    {
      "cell_type": "code",
      "source": [
        "# Analysis 3: Determine the Top 5 Vehicle Makes of the cars present in the crashes in which driver died and Airbags did not deploy."
      ],
      "metadata": {
        "id": "TKoX5l2kXmf3"
      },
      "execution_count": null,
      "outputs": []
    },
    {
      "cell_type": "code",
      "source": [
        "units_use.select(\"VEH_MAKE_ID\").distinct().show()"
      ],
      "metadata": {
        "colab": {
          "base_uri": "https://localhost:8080/"
        },
        "id": "9oWOvHT1XwwO",
        "outputId": "3b0f4b78-e3a8-43bf-b71a-cfffaa331f8d"
      },
      "execution_count": null,
      "outputs": [
        {
          "output_type": "stream",
          "name": "stdout",
          "text": [
            "+--------------------+\n",
            "|         VEH_MAKE_ID|\n",
            "+--------------------+\n",
            "|         UTILIMASTER|\n",
            "| AMERICAN IRON HORSE|\n",
            "|               ACURA|\n",
            "|               WHITE|\n",
            "| MOTOR COACH MND INC|\n",
            "|              PIERCE|\n",
            "|             PORSCHE|\n",
            "|            WHITEGMC|\n",
            "|        FREIGHTLINER|\n",
            "|               BUELL|\n",
            "|            STERLING|\n",
            "|             HYUNDAI|\n",
            "|       INTERNATIONAL|\n",
            "| PETER PIRSCH & SONS|\n",
            "|                FIAT|\n",
            "|              GILLIG|\n",
            "|                  NA|\n",
            "|MIDLAND MANUFACTU...|\n",
            "|              DATSUN|\n",
            "|              CAN-AM|\n",
            "+--------------------+\n",
            "only showing top 20 rows\n",
            "\n"
          ]
        }
      ]
    },
    {
      "cell_type": "code",
      "source": [
        "primary_person_use.show(truncate = False)"
      ],
      "metadata": {
        "colab": {
          "base_uri": "https://localhost:8080/"
        },
        "id": "rxiuhb09ZpzC",
        "outputId": "d9b3b27f-ea09-4cc7-b433-29a08d86b98b"
      },
      "execution_count": null,
      "outputs": [
        {
          "output_type": "stream",
          "name": "stdout",
          "text": [
            "+--------+--------+--------+------------+------------------+-------------------------+--------+-----------------+------------+------------+-------------------+-----------------+--------------+-----------+---------------------+----------------+------------------+---------------------+----------------+-----------------+---------------+---------------+------------------+--------------+-------------+--------------+-------------+---------+----------------------+-----------------+------------------+--------+\n",
            "|CRASH_ID|UNIT_NBR|PRSN_NBR|PRSN_TYPE_ID|PRSN_OCCPNT_POS_ID|PRSN_INJRY_SEV_ID        |PRSN_AGE|PRSN_ETHNICITY_ID|PRSN_GNDR_ID|PRSN_EJCT_ID|PRSN_REST_ID       |PRSN_AIRBAG_ID   |PRSN_HELMET_ID|PRSN_SOL_FL|PRSN_ALC_SPEC_TYPE_ID|PRSN_ALC_RSLT_ID|PRSN_BAC_TEST_RSLT|PRSN_DRG_SPEC_TYPE_ID|PRSN_DRG_RSLT_ID|DRVR_DRG_CAT_1_ID|PRSN_DEATH_TIME|INCAP_INJRY_CNT|NONINCAP_INJRY_CNT|POSS_INJRY_CNT|NON_INJRY_CNT|UNKN_INJRY_CNT|TOT_INJRY_CNT|DEATH_CNT|DRVR_LIC_TYPE_ID      |DRVR_LIC_STATE_ID|DRVR_LIC_CLS_ID   |DRVR_ZIP|\n",
            "+--------+--------+--------+------------+------------------+-------------------------+--------+-----------------+------------+------------+-------------------+-----------------+--------------+-----------+---------------------+----------------+------------------+---------------------+----------------+-----------------+---------------+---------------+------------------+--------------+-------------+--------------+-------------+---------+----------------------+-----------------+------------------+--------+\n",
            "|14768622|1       |1       |DRIVER      |FRONT LEFT        |NOT INJURED              |27      |HISPANIC         |MALE        |NO          |NONE               |DEPLOYED MULTIPLE|NOT APPLICABLE|N          |BLOOD                |Positive        |0.225             |NONE                 |NOT APPLICABLE  |NOT APPLICABLE   |NULL           |0              |0                 |0             |1            |0             |0            |0        |DRIVER LICENSE        |Texas            |CLASS C           |77357   |\n",
            "|14838637|1       |1       |DRIVER      |FRONT LEFT        |NOT INJURED              |31      |WHITE            |MALE        |NO          |SHOULDER & LAP BELT|NOT DEPLOYED     |NOT APPLICABLE|N          |BREATH               |Positive        |0.21              |NONE                 |NOT APPLICABLE  |NOT APPLICABLE   |NULL           |0              |0                 |0             |1            |0             |0            |0        |DRIVER LICENSE        |New York         |OTHER/OUT OF STATE|13830   |\n",
            "|14838637|2       |1       |DRIVER      |FRONT LEFT        |NOT INJURED              |41      |BLACK            |MALE        |NO          |SHOULDER & LAP BELT|NOT DEPLOYED     |NOT APPLICABLE|N          |NONE                 |NA              |NA                |NONE                 |NOT APPLICABLE  |NOT APPLICABLE   |NULL           |0              |0                 |0             |1            |0             |0            |0        |COMMERCIAL DRIVER LIC.|Texas            |CLASS A           |78934   |\n",
            "|14838641|1       |1       |DRIVER      |FRONT LEFT        |POSSIBLE INJURY          |32      |WHITE            |MALE        |NO          |SHOULDER & LAP BELT|DEPLOYED MULTIPLE|NOT APPLICABLE|N          |NONE                 |NA              |NA                |NONE                 |NOT APPLICABLE  |NOT APPLICABLE   |NULL           |0              |0                 |1             |0            |0             |1            |0        |DRIVER LICENSE        |Texas            |CLASS C           |76520   |\n",
            "|14838641|2       |1       |DRIVER      |FRONT LEFT        |NON-INCAPACITATING INJURY|34      |BLACK            |FEMALE      |NO          |SHOULDER & LAP BELT|DEPLOYED MULTIPLE|NOT APPLICABLE|N          |NONE                 |NA              |NA                |NONE                 |NOT APPLICABLE  |NOT APPLICABLE   |NULL           |0              |1                 |0             |0            |0             |1            |0        |ID CARD               |Texas            |UNLICENSED        |76707   |\n",
            "|14838668|1       |1       |DRIVER      |FRONT LEFT        |NOT INJURED              |24      |HISPANIC         |MALE        |NO          |SHOULDER & LAP BELT|DEPLOYED, FRONT  |NOT APPLICABLE|N          |BREATH               |Positive        |0.178             |NONE                 |NOT APPLICABLE  |NOT APPLICABLE   |NULL           |0              |0                 |0             |1            |0             |0            |0        |DRIVER LICENSE        |Texas            |CLASS C           |78076   |\n",
            "|14838669|1       |1       |DRIVER      |FRONT LEFT        |NOT INJURED              |53      |WHITE            |MALE        |NO          |SHOULDER & LAP BELT|NOT DEPLOYED     |NOT APPLICABLE|N          |NONE                 |NA              |NA                |NONE                 |NOT APPLICABLE  |NOT APPLICABLE   |NULL           |0              |0                 |0             |1            |0             |0            |0        |DRIVER LICENSE        |Texas            |CLASS C           |76053   |\n",
            "|14838669|2       |1       |DRIVER      |FRONT LEFT        |NOT INJURED              |24      |WHITE            |MALE        |NO          |UNKNOWN            |DEPLOYED, FRONT  |NOT APPLICABLE|N          |BREATH               |Positive        |0.219             |NONE                 |NOT APPLICABLE  |NOT APPLICABLE   |NULL           |0              |0                 |0             |1            |0             |0            |0        |DRIVER LICENSE        |Texas            |CLASS C           |76118   |\n",
            "|14838670|1       |1       |DRIVER      |FRONT LEFT        |NOT INJURED              |23      |WHITE            |MALE        |NO          |NONE               |NOT DEPLOYED     |NOT APPLICABLE|N          |BLOOD                |Positive        |0.16              |BLOOD                |UNKNOWN         |UNKNOWN          |NULL           |0              |0                 |0             |1            |0             |0            |0        |DRIVER LICENSE        |Texas            |CLASS C           |75050   |\n",
            "|14838685|1       |1       |DRIVER      |FRONT LEFT        |NOT INJURED              |27      |BLACK            |FEMALE      |NO          |SHOULDER & LAP BELT|NOT DEPLOYED     |NOT APPLICABLE|N          |NONE                 |NA              |NA                |NONE                 |NOT APPLICABLE  |NOT APPLICABLE   |NULL           |0              |0                 |0             |1            |0             |0            |0        |ID CARD               |Texas            |UNLICENSED        |77033   |\n",
            "|14838693|1       |1       |DRIVER      |FRONT LEFT        |NOT INJURED              |52      |HISPANIC         |MALE        |NO          |SHOULDER & LAP BELT|NOT DEPLOYED     |NOT APPLICABLE|N          |BREATH               |Positive        |0.193             |NONE                 |NOT APPLICABLE  |NOT APPLICABLE   |NULL           |0              |0                 |0             |1            |0             |0            |0        |DRIVER LICENSE        |Texas            |CLASS C           |78564   |\n",
            "|14838768|1       |1       |DRIVER      |FRONT LEFT        |NOT INJURED              |20      |ASIAN            |MALE        |NO          |SHOULDER & LAP BELT|DEPLOYED MULTIPLE|NOT APPLICABLE|N          |NONE                 |NA              |NA                |NONE                 |NOT APPLICABLE  |NOT APPLICABLE   |NULL           |0              |0                 |0             |1            |0             |0            |0        |DRIVER LICENSE        |California       |OTHER/OUT OF STATE|77090   |\n",
            "|14838768|2       |1       |DRIVER      |FRONT LEFT        |NOT INJURED              |55      |HISPANIC         |FEMALE      |NO          |SHOULDER & LAP BELT|NOT DEPLOYED     |NOT APPLICABLE|N          |BLOOD                |Negative        |0                 |NONE                 |NOT APPLICABLE  |NOT APPLICABLE   |NULL           |0              |0                 |0             |1            |0             |0            |0        |DRIVER LICENSE        |Texas            |CLASS C           |77080   |\n",
            "|14838834|1       |1       |DRIVER      |FRONT LEFT        |NOT INJURED              |20      |HISPANIC         |MALE        |NO          |UNKNOWN            |DEPLOYED, FRONT  |NOT APPLICABLE|N          |NONE                 |NA              |NA                |NONE                 |NOT APPLICABLE  |NOT APPLICABLE   |NULL           |0              |0                 |0             |1            |0             |0            |0        |UNKNOWN               |Unknown          |UNKNOWN           |79107   |\n",
            "|14838841|1       |1       |DRIVER      |FRONT LEFT        |NOT INJURED              |25      |HISPANIC         |FEMALE      |UNKNOWN     |UNKNOWN            |NOT DEPLOYED     |NOT APPLICABLE|N          |NONE                 |NA              |NA                |NONE                 |NOT APPLICABLE  |NOT APPLICABLE   |NULL           |0              |0                 |0             |1            |0             |0            |0        |DRIVER LICENSE        |Texas            |CLASS C           |79412   |\n",
            "|14838842|1       |1       |DRIVER      |FRONT LEFT        |NOT INJURED              |41      |HISPANIC         |FEMALE      |NO          |UNKNOWN            |NOT DEPLOYED     |NOT APPLICABLE|N          |NONE                 |NA              |NA                |NONE                 |NOT APPLICABLE  |NOT APPLICABLE   |NULL           |0              |0                 |0             |1            |0             |0            |0        |DRIVER LICENSE        |Texas            |CLASS C           |79403   |\n",
            "|14838842|2       |1       |DRIVER      |FRONT LEFT        |NOT INJURED              |34      |HISPANIC         |FEMALE      |NO          |SHOULDER & LAP BELT|NOT DEPLOYED     |NOT APPLICABLE|N          |NONE                 |NA              |NA                |NONE                 |NOT APPLICABLE  |NOT APPLICABLE   |NULL           |0              |0                 |0             |1            |0             |0            |0        |DRIVER LICENSE        |Texas            |CLASS C           |79401   |\n",
            "|14838866|1       |1       |DRIVER      |FRONT LEFT        |POSSIBLE INJURY          |44      |WHITE            |MALE        |NO          |SHOULDER & LAP BELT|DEPLOYED, FRONT  |NOT APPLICABLE|N          |NONE                 |NA              |NA                |NONE                 |NOT APPLICABLE  |NOT APPLICABLE   |NULL           |0              |0                 |1             |0            |0             |1            |0        |DRIVER LICENSE        |Texas            |CLASS C           |76705   |\n",
            "|14838877|1       |1       |DRIVER      |FRONT LEFT        |NOT INJURED              |39      |WHITE            |MALE        |NO          |NONE               |NOT DEPLOYED     |NOT APPLICABLE|N          |BLOOD                |Positive        |0.21              |BLOOD                |NOT APPLICABLE  |NOT APPLICABLE   |NULL           |0              |0                 |0             |1            |0             |0            |0        |DRIVER LICENSE        |Texas            |CLASS C           |76247   |\n",
            "|14838972|1       |1       |DRIVER      |FRONT LEFT        |NOT INJURED              |59      |WHITE            |MALE        |NO          |SHOULDER & LAP BELT|NOT DEPLOYED     |NOT APPLICABLE|N          |NONE                 |NA              |NA                |NONE                 |NOT APPLICABLE  |NOT APPLICABLE   |NULL           |0              |0                 |0             |1            |0             |0            |0        |DRIVER LICENSE        |Texas            |CLASS C           |78578   |\n",
            "+--------+--------+--------+------------+------------------+-------------------------+--------+-----------------+------------+------------+-------------------+-----------------+--------------+-----------+---------------------+----------------+------------------+---------------------+----------------+-----------------+---------------+---------------+------------------+--------------+-------------+--------------+-------------+---------+----------------------+-----------------+------------------+--------+\n",
            "only showing top 20 rows\n",
            "\n"
          ]
        }
      ]
    },
    {
      "cell_type": "code",
      "source": [
        "units_use.show(truncate = False)"
      ],
      "metadata": {
        "colab": {
          "base_uri": "https://localhost:8080/"
        },
        "id": "IebNVrnKLHb5",
        "outputId": "09561c16-8383-4ce4-eda0-182efcba7deb"
      },
      "execution_count": null,
      "outputs": [
        {
          "output_type": "stream",
          "name": "stdout",
          "text": [
            "+--------+--------+-------------+-------------+----------+----------------+-----------------+------------+------------+------------+---------------+---------------------+---------------+--------+-----------------+----------------------------+---------------------------------------------+-----------------+--------------+-----------------------------------------+-----------------+--------------+------------------+----------------------------+----------------------------------------+------------------------------+------------------------------+------------------------+---------------+---------------------+---------------+------------------+--------------+-------------+--------------+-------------+---------+\n",
            "|CRASH_ID|UNIT_NBR|UNIT_DESC_ID |VEH_PARKED_FL|VEH_HNR_FL|VEH_LIC_STATE_ID|VIN              |VEH_MOD_YEAR|VEH_COLOR_ID|VEH_MAKE_ID |VEH_MOD_ID     |VEH_BODY_STYL_ID     |EMER_RESPNDR_FL|OWNR_ZIP|FIN_RESP_PROOF_ID|FIN_RESP_TYPE_ID            |VEH_DMAG_AREA_1_ID                           |VEH_DMAG_SCL_1_ID|FORCE_DIR_1_ID|VEH_DMAG_AREA_2_ID                       |VEH_DMAG_SCL_2_ID|FORCE_DIR_2_ID|VEH_INVENTORIED_FL|VEH_TRANSP_NAME             |VEH_TRANSP_DEST                         |CONTRIB_FACTR_1_ID            |CONTRIB_FACTR_2_ID            |CONTRIB_FACTR_P1_ID     |VEH_TRVL_DIR_ID|FIRST_HARM_EVT_INV_ID|INCAP_INJRY_CNT|NONINCAP_INJRY_CNT|POSS_INJRY_CNT|NON_INJRY_CNT|UNKN_INJRY_CNT|TOT_INJRY_CNT|DEATH_CNT|\n",
            "+--------+--------+-------------+-------------+----------+----------------+-----------------+------------+------------+------------+---------------+---------------------+---------------+--------+-----------------+----------------------------+---------------------------------------------+-----------------+--------------+-----------------------------------------+-----------------+--------------+------------------+----------------------------+----------------------------------------+------------------------------+------------------------------+------------------------+---------------+---------------------+---------------+------------------+--------------+-------------+--------------+-------------+---------+\n",
            "|14768622|1       |MOTOR VEHICLE|N            |N         |TX              |4S2CK57D1X4381118|1999        |GRY         |ISUZU       |AMIGO          |PASSENGER CAR, 4-DOOR|Y              |77357   |2                |NA                          |FRONT END DAMAGE CONCENTRATED IMPACT         |DAMAGED 3        |1             |LEFT SIDE AND TOP DAMAGE ROLLOVER EFFECTS|DAMAGED 4        |3             |Y                 |VALENTIN TOWING             |20288 FM 1314 PORTER, TX                |UNDER INFLUENCE - ALCOHOL     |NA                            |NA                      |EAST           |Y                    |0              |0                 |0             |1            |0             |0            |0        |\n",
            "|14838637|1       |MOTOR VEHICLE|N            |N         |TX              |WVWAN7AN6DE536582|NA          |GRY         |VOLKSWAGEN  |CC             |PASSENGER CAR, 4-DOOR|N              |13830   |1                |PROOF OF LIABILITY INSURANCE|FRONT END DAMAGE DISTRIBUTED IMPACT          |DAMAGED 3        |12            |NA                                       |NA               |NA            |N                 |A-1 TOWING                  |4710 ELLEN TROUT                        |HAD BEEN DRINKING             |NA                            |NA                      |SOUTH          |Y                    |0              |0                 |0             |1            |0             |0            |0        |\n",
            "|14838637|2       |MOTOR VEHICLE|N            |N         |TX              |1FUJA6CG24LM14889|2004        |RED         |FREIGHTLINER|NA             |TRUCK                |N              |78934   |1                |PROOF OF LIABILITY INSURANCE|RIGHT SIDE DAMAGE ANGULAR IMPACT             |DAMAGED 2        |3             |NA                                       |NA               |NA            |N                 |DRIVEN AWAY                 |BY DRIVER                               |NONE                          |NA                            |NA                      |SOUTH          |Y                    |0              |0                 |0             |1            |0             |0            |0        |\n",
            "|14838637|2       |MOTOR VEHICLE|N            |N         |TX              |1FUJA6CG24LM14889|2004        |RED         |FREIGHTLINER|NA             |TRUCK                |N              |78934   |1                |PROOF OF LIABILITY INSURANCE|RIGHT SIDE DAMAGE ANGULAR IMPACT             |DAMAGED 2        |3             |NA                                       |NA               |NA            |N                 |DRIVEN AWAY                 |BY DRIVER                               |NONE                          |NA                            |NA                      |SOUTH          |Y                    |0              |0                 |0             |1            |0             |0            |0        |\n",
            "|14838637|3       |TOWED/TRAILER|NULL         |NULL      |NA              |NULL             |NA          |NA          |NA          |NA             |NA                   |NULL           |78934   |NA               |NA                          |NA                                           |NA               |NA            |NA                                       |NA               |NA            |NULL              |NULL                        |NULL                                    |NONE                          |NA                            |NA                      |NOT APPLICABLE |N                    |0              |0                 |0             |0            |0             |0            |0        |\n",
            "|14838641|1       |MOTOR VEHICLE|N            |N         |TX              |JHMFA15896S005043|2006        |GRY         |HONDA       |CIVIC          |PASSENGER CAR, 4-DOOR|N              |76520   |1                |PROOF OF LIABILITY INSURANCE|FRONT END (RIGHT)  DAMAGE PARTIAL CONTACT    |DAMAGED 3        |1             |NA                                       |NA               |NA            |N                 |TOW KING                    |7191 BAGBY                              |DISREGARD STOP AND GO SIGNAL  |DRIVER INATTENTION            |NA                      |NORTHWEST      |Y                    |0              |0                 |1             |0            |0             |1            |0        |\n",
            "|14838641|2       |MOTOR VEHICLE|N            |N         |TX              |1GNEC13R8YR146867|2000        |BLK         |CHEVROLET   |TAHOE          |SPORT UTILITY VEHICLE|N              |76707   |1                |PROOF OF LIABILITY INSURANCE|LEFT SIDE AND TOP DAMAGE ROLLOVER EFFECTS    |DAMAGED 3        |9             |NA                                       |NA               |NA            |N                 |TOW KING                    |7191 BAGBY                              |NONE                          |NA                            |NA                      |SOUTHWEST      |Y                    |0              |1                 |0             |0            |0             |1            |0        |\n",
            "|14838668|1       |MOTOR VEHICLE|N            |N         |TX              |JM1BK32F791214223|NA          |BLK         |MAZDA       |NA             |PASSENGER CAR, 4-DOOR|N              |78076   |2                |NA                          |FRONT END DAMAGE DISTRIBUTED IMPACT          |DAMAGED 4        |12            |NA                                       |NA               |NA            |Y                 |GARCIA'S TOWING             |203 2ND ST, ZAPATA, TX 78076            |UNDER INFLUENCE - ALCOHOL     |FAILED TO DRIVE IN SINGLE LANE|NA                      |NORTHWEST      |Y                    |0              |0                 |0             |1            |0             |0            |0        |\n",
            "|14838669|1       |MOTOR VEHICLE|N            |N         |TX              |1GCEC14X89Z178483|NA          |WHI         |CHEVROLET   |SILVERADO C1500|PICKUP               |N              |76053   |1                |LIABILITY INSURANCE POLICY  |BACK END DAMAGE DISTRIBUTED IMPACT           |DAMAGED 2        |6             |NA                                       |NA               |NA            |N                 |DRIVEN AWAY                 |BY DRIVER                               |NONE                          |NA                            |NA                      |WEST           |Y                    |0              |0                 |0             |1            |0             |0            |0        |\n",
            "|14838669|2       |MOTOR VEHICLE|N            |N         |TX              |JM1BL1SF9A1147727|NA          |BLK         |MAZDA       |NA             |PASSENGER CAR, 4-DOOR|N              |76118   |1                |LIABILITY INSURANCE POLICY  |FRONT END DAMAGE DISTRIBUTED IMPACT          |DAMAGED 3        |12            |NA                                       |NA               |NA            |Y                 |EULESS B & B WRECKER SERVICE|1201 W EULESS BLVD., EULESS, TEXAS 76040|FAILED TO CONTROL SPEED       |UNDER INFLUENCE - ALCOHOL     |NA                      |WEST           |Y                    |0              |0                 |0             |1            |0             |0            |0        |\n",
            "|14838670|1       |MOTOR VEHICLE|N            |N         |TX              |1J4GL58K53W701914|2003        |SIL         |JEEP        |LIBERTY        |SPORT UTILITY VEHICLE|N              |75050   |1                |PROOF OF LIABILITY INSURANCE|FRONT END (RIGHT)  DAMAGE PARTIAL CONTACT    |DAMAGED 1 MINIMUM|12            |FRONT END (LEFT) DAMAGE PARTIAL CONTACT  |DAMAGED 2        |12            |Y                 |EULESS B & B WRECKER SERVICE|1201 W EULESS BLVD., EULESS, TEXAS 76040|HAD BEEN DRINKING             |NA                            |NA                      |EAST           |Y                    |0              |0                 |0             |1            |0             |0            |0        |\n",
            "|14838670|2       |MOTOR VEHICLE|Y            |N         |TX              |JS2RA61S045207476|2004        |GLD         |SUZUKI      |AERIO          |PASSENGER CAR, 4-DOOR|N              |76040   |1                |PROOF OF LIABILITY INSURANCE|BACK END (LEFT) DAMAGE PARTIAL CONTACT       |DAMAGED 2        |6             |NA                                       |NA               |NA            |N                 |REMAINED PARKED             |BY OWNER                                |NONE                          |NA                            |NA                      |EAST           |Y                    |0              |0                 |0             |0            |0             |0            |0        |\n",
            "|14838670|3       |MOTOR VEHICLE|Y            |N         |TX              |1FTEW1CM3CFC20128|NA          |GRY         |FORD        |F150           |PICKUP               |N              |76180   |1                |PROOF OF LIABILITY INSURANCE|LEFT BACK QUARTER DAMAGE ANGULAR IMPACT      |DAMAGED 2        |11            |NA                                       |NA               |NA            |N                 |REMAINED PARKED             |BY OWNER                                |NONE                          |NA                            |NA                      |WEST           |N                    |0              |0                 |0             |0            |0             |0            |0        |\n",
            "|14838685|1       |MOTOR VEHICLE|N            |N         |TX              |1HGCG16522A035476|2002        |RED         |HONDA       |ACCORD         |PASSENGER CAR, 4-DOOR|N              |77084   |2                |NA                          |FRONT END DAMAGE CONCENTRATED IMPACT         |DAMAGED 3        |12            |TOP DAMAGE ONLY                          |NO DAMAGE        |NA            |N                 |CHALLENGER                  |8000 GALVESTON RD                       |FAILED TO DRIVE IN SINGLE LANE|NA                            |NA                      |SOUTHWEST      |Y                    |0              |0                 |0             |1            |0             |0            |0        |\n",
            "|14838693|1       |MOTOR VEHICLE|N            |N         |TX              |1GCJC33U24F229732|2004        |WHI         |CHEVROLET   |SILVERADO C3500|PICKUP               |N              |78564   |1                |PROOF OF LIABILITY INSURANCE|LEFT SIDE DAMAGE ANGULAR IMPACT              |DAMAGED 1 MINIMUM|11            |RIGHT SIDE DAMAGE ANGULAR IMPACT         |DAMAGED 1 MINIMUM|1             |Y                 |GARCIA'S TOWING             |203 2ND,  ZAPATA, TX 78076              |UNDER INFLUENCE - ALCOHOL     |FAILED TO DRIVE IN SINGLE LANE|DISABLED IN TRAFFIC LANE|NORTHWEST      |Y                    |0              |0                 |0             |1            |0             |0            |0        |\n",
            "|14838768|1       |MOTOR VEHICLE|N            |N         |CA              |2HNYD18814H543053|2004        |SIL         |ACURA       |MDX            |SPORT UTILITY VEHICLE|N              |77090   |1                |PROOF OF LIABILITY INSURANCE|FRONT END (RIGHT)  DAMAGE PARTIAL CONTACT    |DAMAGED 4        |2             |NA                                       |NA               |NA            |Y                 |AJ TOWING                   |8288 VETERANS MEMORIAL                  |NONE                          |NA                            |NA                      |EAST           |Y                    |0              |0                 |1             |1            |0             |1            |0        |\n",
            "|14838768|2       |MOTOR VEHICLE|N            |N         |TX              |4T1BE46K97U049772|2007        |SIL         |TOYOTA      |CAMRY          |PASSENGER CAR, 4-DOOR|N              |77080   |2                |NA                          |DISTRIBUTED RIGHT SIDE DAMAGE PARALLEL IMPACT|DAMAGED 6        |3             |NA                                       |NA               |NA            |N                 |SAFECLEAR                   |36 TIDWELL                              |DISREGARD STOP AND GO SIGNAL  |HAD BEEN DRINKING             |NA                      |SOUTH          |Y                    |0              |0                 |0             |1            |0             |0            |0        |\n",
            "|14838834|1       |MOTOR VEHICLE|N            |Y         |TX              |5TFJV52167X002099|2007        |99          |TOYOTA      |TUNDRA         |PICKUP               |N              |79107   |1                |LIABILITY INSURANCE POLICY  |FRONT END DAMAGE DISTRIBUTED IMPACT          |DAMAGED 4        |12            |FRONT END DAMAGE CONCENTRATED IMPACT     |DAMAGED 2        |1             |Y                 |COMPETITION TOWING          |8409 I40 E, AMA, TX 79118 373-5858      |FAILED TO CONTROL SPEED       |NA                            |NA                      |SOUTH          |Y                    |0              |0                 |0             |1            |0             |0            |0        |\n",
            "|14838834|2       |MOTOR VEHICLE|Y            |N         |TX              |1D8GU28K07W640397|2007        |SIL         |DODGE       |NITRO          |SPORT UTILITY VEHICLE|N              |79107   |2                |NA                          |BACK END DAMAGE DISTRIBUTED IMPACT           |DAMAGED 4        |6             |RIGHT BACK QUARTER DAMAGE ANGULAR IMPACT |DAMAGED 2        |4             |N                 |NULL                        |NULL                                    |NONE                          |NA                            |NA                      |EAST           |Y                    |0              |0                 |0             |0            |0             |0            |0        |\n",
            "|14838834|3       |MOTOR VEHICLE|Y            |N         |TX              |1MELM62W9SH630933|1995        |GRN         |MERCURY     |COUGAR         |PASSENGER CAR, 2-DOOR|N              |79107   |2                |NA                          |RIGHT BACK QUARTER DAMAGE ANGULAR IMPACT     |DAMAGED 3        |4             |LEFT BACK QUARTER DAMAGE ANGULAR IMPACT  |DAMAGED 1 MINIMUM|8             |N                 |NULL                        |NULL                                    |NONE                          |NA                            |NA                      |EAST           |N                    |0              |0                 |0             |0            |0             |0            |0        |\n",
            "+--------+--------+-------------+-------------+----------+----------------+-----------------+------------+------------+------------+---------------+---------------------+---------------+--------+-----------------+----------------------------+---------------------------------------------+-----------------+--------------+-----------------------------------------+-----------------+--------------+------------------+----------------------------+----------------------------------------+------------------------------+------------------------------+------------------------+---------------+---------------------+---------------+------------------+--------------+-------------+--------------+-------------+---------+\n",
            "only showing top 20 rows\n",
            "\n"
          ]
        }
      ]
    },
    {
      "cell_type": "code",
      "source": [
        "primary_person_use.select(\"PRSN_TYPE_ID\").distinct().show()"
      ],
      "metadata": {
        "colab": {
          "base_uri": "https://localhost:8080/"
        },
        "id": "GDzDLJrya2RO",
        "outputId": "ac171f55-4af0-4153-8c66-d049215b8121"
      },
      "execution_count": null,
      "outputs": [
        {
          "output_type": "stream",
          "name": "stdout",
          "text": [
            "+--------------------+\n",
            "|        PRSN_TYPE_ID|\n",
            "+--------------------+\n",
            "|          PEDESTRIAN|\n",
            "|DRIVER OF MOTORCY...|\n",
            "|  PASSENGER/OCCUPANT|\n",
            "|              DRIVER|\n",
            "|             UNKNOWN|\n",
            "|OTHER (EXPLAIN IN...|\n",
            "|        PEDALCYCLIST|\n",
            "+--------------------+\n",
            "\n"
          ]
        }
      ]
    },
    {
      "cell_type": "code",
      "source": [
        "primary_person_use.select(\"PRSN_INJRY_SEV_ID\").distinct().show()"
      ],
      "metadata": {
        "colab": {
          "base_uri": "https://localhost:8080/"
        },
        "id": "Ojtug32obb1L",
        "outputId": "871addc2-67bf-4eb1-e1fc-7230175f806e"
      },
      "execution_count": null,
      "outputs": [
        {
          "output_type": "stream",
          "name": "stdout",
          "text": [
            "+--------------------+\n",
            "|   PRSN_INJRY_SEV_ID|\n",
            "+--------------------+\n",
            "|                  NA|\n",
            "|              KILLED|\n",
            "|             UNKNOWN|\n",
            "|NON-INCAPACITATIN...|\n",
            "|         NOT INJURED|\n",
            "|     POSSIBLE INJURY|\n",
            "|INCAPACITATING IN...|\n",
            "+--------------------+\n",
            "\n"
          ]
        }
      ]
    },
    {
      "cell_type": "code",
      "source": [
        "primary_person_use.select(\"PRSN_AIRBAG_ID\").distinct().show()"
      ],
      "metadata": {
        "colab": {
          "base_uri": "https://localhost:8080/"
        },
        "id": "2PHuPr5Nb2zK",
        "outputId": "dc95968c-b2dc-406a-b4d8-ef1b343d2a46"
      },
      "execution_count": null,
      "outputs": [
        {
          "output_type": "stream",
          "name": "stdout",
          "text": [
            "+-----------------+\n",
            "|   PRSN_AIRBAG_ID|\n",
            "+-----------------+\n",
            "|               NA|\n",
            "|   DEPLOYED, REAR|\n",
            "|     NOT DEPLOYED|\n",
            "|   DEPLOYED, SIDE|\n",
            "|          UNKNOWN|\n",
            "|   NOT APPLICABLE|\n",
            "|DEPLOYED MULTIPLE|\n",
            "|  DEPLOYED, FRONT|\n",
            "+-----------------+\n",
            "\n"
          ]
        }
      ]
    },
    {
      "cell_type": "code",
      "source": [
        "#first filtering to minimize the data on join\n",
        "units_use_filtered = units_use.filter(col(\"VEH_MAKE_ID\") != \"NA\")\n",
        "\n",
        "primary_person_use_filtered = primary_person_use.filter(\n",
        "    (col(\"PRSN_TYPE_ID\") == \"DRIVER\") &\n",
        "    (col(\"PRSN_INJRY_SEV_ID\") == \"KILLED\") &\n",
        "    (col(\"PRSN_AIRBAG_ID\") == \"NOT DEPLOYED\")\n",
        ")\n",
        "\n"
      ],
      "metadata": {
        "id": "oMYiuKq3falL"
      },
      "execution_count": null,
      "outputs": []
    },
    {
      "cell_type": "code",
      "source": [
        "df = (\n",
        "    units_use_filtered\n",
        "    .join(primary_person_use_filtered, \"CRASH_ID\", \"inner\")\n",
        "    .groupBy(\"VEH_MAKE_ID\")\n",
        "    .count()\n",
        "    .orderBy(col(\"count\").desc())\n",
        "    .limit(5)\n",
        "    .select(\"VEH_MAKE_ID\")\n",
        ")\n"
      ],
      "metadata": {
        "id": "KnDX84yRb7q1"
      },
      "execution_count": null,
      "outputs": []
    },
    {
      "cell_type": "code",
      "source": [
        "df.show(truncate = False)"
      ],
      "metadata": {
        "colab": {
          "base_uri": "https://localhost:8080/"
        },
        "id": "jyA-umS3dwM5",
        "outputId": "6741a248-afaa-46b6-ebd3-307b7443c8b6"
      },
      "execution_count": null,
      "outputs": [
        {
          "output_type": "stream",
          "name": "stdout",
          "text": [
            "+------------+\n",
            "|VEH_MAKE_ID |\n",
            "+------------+\n",
            "|CHEVROLET   |\n",
            "|FORD        |\n",
            "|DODGE       |\n",
            "|FREIGHTLINER|\n",
            "|NISSAN      |\n",
            "+------------+\n",
            "\n"
          ]
        }
      ]
    },
    {
      "cell_type": "code",
      "source": [
        "# Analysis 4: Determine number of Vehicles with driver having valid licences involved in hit and run?"
      ],
      "metadata": {
        "id": "TOa_pNZMf1tu"
      },
      "execution_count": null,
      "outputs": []
    },
    {
      "cell_type": "code",
      "source": [
        "primary_person_use.select(\"DRVR_LIC_TYPE_ID\").distinct().show(truncate = False)"
      ],
      "metadata": {
        "colab": {
          "base_uri": "https://localhost:8080/"
        },
        "id": "oW2jSLd5gO25",
        "outputId": "c6436810-01b8-4a71-debc-67924a9fe8e6"
      },
      "execution_count": null,
      "outputs": [
        {
          "output_type": "stream",
          "name": "stdout",
          "text": [
            "+----------------------+\n",
            "|DRVR_LIC_TYPE_ID      |\n",
            "+----------------------+\n",
            "|NA                    |\n",
            "|COMMERCIAL DRIVER LIC.|\n",
            "|ID CARD               |\n",
            "|UNKNOWN               |\n",
            "|OCCUPATIONAL          |\n",
            "|UNLICENSED            |\n",
            "|OTHER                 |\n",
            "|DRIVER LICENSE        |\n",
            "+----------------------+\n",
            "\n"
          ]
        }
      ]
    },
    {
      "cell_type": "code",
      "source": [
        "units_use.select(\"VEH_HNR_FL\").distinct().show()"
      ],
      "metadata": {
        "colab": {
          "base_uri": "https://localhost:8080/"
        },
        "id": "EZ4qzBH_lzgW",
        "outputId": "595faa7d-b375-470a-e0e0-512064d4c17b"
      },
      "execution_count": null,
      "outputs": [
        {
          "output_type": "stream",
          "name": "stdout",
          "text": [
            "+----------+\n",
            "|VEH_HNR_FL|\n",
            "+----------+\n",
            "|         Y|\n",
            "|         N|\n",
            "|      NULL|\n",
            "+----------+\n",
            "\n"
          ]
        }
      ]
    },
    {
      "cell_type": "code",
      "source": [
        "primary_person_use_filtered = (\n",
        "    primary_person_use\n",
        "    .select(\"CRASH_ID\", \"DRVR_LIC_TYPE_ID\")\n",
        "    .filter(\n",
        "        col(\"DRVR_LIC_TYPE_ID\").isin(\"COMMERCIAL DRIVER LIC.\", \"DRIVER LICENSE\")\n",
        "    )\n",
        ")"
      ],
      "metadata": {
        "id": "4zx4RZM2njck"
      },
      "execution_count": null,
      "outputs": []
    },
    {
      "cell_type": "code",
      "source": [
        "units_use_filtered = (\n",
        "    units_use\n",
        "    .select(\"CRASH_ID\", \"VEH_HNR_FL\")\n",
        "    .filter(col(\"VEH_HNR_FL\") == \"Y\")\n",
        ")\n"
      ],
      "metadata": {
        "id": "NQYGsXS_nybY"
      },
      "execution_count": null,
      "outputs": []
    },
    {
      "cell_type": "code",
      "source": [
        "no_of_vehicle = primary_person_use_filtered.join(units_use_filtered, \"CRASH_ID\", \"inner\").count()"
      ],
      "metadata": {
        "colab": {
          "base_uri": "https://localhost:8080/"
        },
        "id": "Y545cJ58pKEL",
        "outputId": "aca64912-501a-42d5-cab1-f2c2249f7e37"
      },
      "execution_count": null,
      "outputs": [
        {
          "output_type": "execute_result",
          "data": {
            "text/plain": [
              "6359"
            ]
          },
          "metadata": {},
          "execution_count": 106
        }
      ]
    },
    {
      "cell_type": "code",
      "source": [
        "# vehicle_df = primary_person_use.join(units_use, \"CRASH_ID\", \"inner\")\n",
        "\n",
        "# no_of_vehicle = (\n",
        "#     vehicle_df\n",
        "#     .filter(\n",
        "#         (col(\"DRVR_LIC_TYPE_ID\").isin(\"COMMERCIAL DRIVER LIC.\", \"DRIVER LICENSE\")) &\n",
        "#         (col(\"VEH_HNR_FL\") == \"Y\")\n",
        "#     )\n",
        "#     .count()\n",
        "# )"
      ],
      "metadata": {
        "id": "tI4KQsYmoOhD"
      },
      "execution_count": null,
      "outputs": []
    },
    {
      "cell_type": "code",
      "source": [],
      "metadata": {
        "id": "IJQtaGrlp1QU"
      },
      "execution_count": null,
      "outputs": []
    },
    {
      "cell_type": "code",
      "source": [
        "# Analysis 5: Which state has highest number of accidents in which females are not involved"
      ],
      "metadata": {
        "id": "Yu5JbHlbnMKe"
      },
      "execution_count": null,
      "outputs": []
    },
    {
      "cell_type": "code",
      "source": [
        "state_df = primary_person_use.filter(col(\"PRSN_GNDR_ID\") != \"FEMALE\").groupBy(\"DRVR_LIC_STATE_ID\").count().orderBy(col(\"count\").desc())"
      ],
      "metadata": {
        "id": "y_DDL9vfpy_q"
      },
      "execution_count": null,
      "outputs": []
    },
    {
      "cell_type": "code",
      "source": [
        "print(state_df.first())"
      ],
      "metadata": {
        "colab": {
          "base_uri": "https://localhost:8080/"
        },
        "id": "XItKMKbZtVjf",
        "outputId": "3c713c8b-506a-421f-ef59-57647ccfff70"
      },
      "execution_count": null,
      "outputs": [
        {
          "output_type": "stream",
          "name": "stdout",
          "text": [
            "Row(DRVR_LIC_STATE_ID='Texas', count=83016)\n"
          ]
        }
      ]
    },
    {
      "cell_type": "code",
      "source": [
        "# Analysis 6: Which are the Top 3rd to 5th VEH_MAKE_IDs that contribute to a largest number of injuries including death"
      ],
      "metadata": {
        "id": "Ao4HX1bgtFYE"
      },
      "execution_count": null,
      "outputs": []
    },
    {
      "cell_type": "code",
      "source": [
        "total_injury_df = primary_person_use.withColumn(\"TOT_INJRY_INCLUDING_DEATH\", col(\"TOT_INJRY_CNT\")+col(\"DEATH_CNT\"))"
      ],
      "metadata": {
        "id": "VkzLpXttwNpR"
      },
      "execution_count": null,
      "outputs": []
    },
    {
      "cell_type": "code",
      "source": [
        "from pyspark.sql import functions as F\n",
        "\n",
        "df = (\n",
        "    total_injury_df\n",
        "    .join(units_use, \"CRASH_ID\", \"inner\")\n",
        "    .groupBy(\"VEH_MAKE_ID\")\n",
        "    .agg(F.sum(col(\"TOT_INJRY_INCLUDING_DEATH\")).alias(\"Total_Injuries\"))\n",
        "    .orderBy(col(\"Total_Injuries\").desc())\n",
        ")\n"
      ],
      "metadata": {
        "id": "gvz8JVaRtlMh"
      },
      "execution_count": null,
      "outputs": []
    },
    {
      "cell_type": "code",
      "source": [
        "third_to_fifth_df = df.limit(5).subtract(df.limit(2))"
      ],
      "metadata": {
        "id": "JUykmfQZvqq0"
      },
      "execution_count": null,
      "outputs": []
    },
    {
      "cell_type": "code",
      "source": [
        "third_to_fifth_df.show()"
      ],
      "metadata": {
        "colab": {
          "base_uri": "https://localhost:8080/"
        },
        "id": "J_EqdebKx56b",
        "outputId": "2bc20860-16d1-425d-df6f-1699f1424ba5"
      },
      "execution_count": null,
      "outputs": [
        {
          "output_type": "stream",
          "name": "stdout",
          "text": [
            "+-----------+--------------+\n",
            "|VEH_MAKE_ID|Total_Injuries|\n",
            "+-----------+--------------+\n",
            "|     TOYOTA|          7113|\n",
            "|      DODGE|          5592|\n",
            "|     NISSAN|          4873|\n",
            "+-----------+--------------+\n",
            "\n"
          ]
        }
      ]
    },
    {
      "cell_type": "code",
      "source": [
        "# Analysis 7: For all the body styles involved in crashes, mention the top ethnic user group of each unique body style"
      ],
      "metadata": {
        "id": "X5bAkwj5ySeo"
      },
      "execution_count": null,
      "outputs": []
    },
    {
      "cell_type": "code",
      "source": [
        "primary_person_use.select(\"PRSN_ETHNICITY_ID\").distinct().show(truncate = False)"
      ],
      "metadata": {
        "colab": {
          "base_uri": "https://localhost:8080/"
        },
        "id": "CiGMZ6yY05bU",
        "outputId": "ab556c41-fca0-4934-9074-13e7697133f9"
      },
      "execution_count": null,
      "outputs": [
        {
          "output_type": "stream",
          "name": "stdout",
          "text": [
            "+---------------------------+\n",
            "|PRSN_ETHNICITY_ID          |\n",
            "+---------------------------+\n",
            "|WHITE                      |\n",
            "|BLACK                      |\n",
            "|HISPANIC                   |\n",
            "|NA                         |\n",
            "|AMER. INDIAN/ALASKAN NATIVE|\n",
            "|UNKNOWN                    |\n",
            "|OTHER                      |\n",
            "|ASIAN                      |\n",
            "+---------------------------+\n",
            "\n"
          ]
        }
      ]
    },
    {
      "cell_type": "code",
      "source": [
        "units_use.select(\"VEH_BODY_STYL_ID\").distinct().show(truncate = False)"
      ],
      "metadata": {
        "colab": {
          "base_uri": "https://localhost:8080/"
        },
        "id": "aHyD-9rM2vWS",
        "outputId": "0c04cfae-28db-45ed-ec5e-f1dbcb5ac514"
      },
      "execution_count": null,
      "outputs": [
        {
          "output_type": "stream",
          "name": "stdout",
          "text": [
            "+---------------------------------+\n",
            "|VEH_BODY_STYL_ID                 |\n",
            "+---------------------------------+\n",
            "|BUS                              |\n",
            "|NA                               |\n",
            "|VAN                              |\n",
            "|PICKUP                           |\n",
            "|SPORT UTILITY VEHICLE            |\n",
            "|PASSENGER CAR, 4-DOOR            |\n",
            "|FIRE TRUCK                       |\n",
            "|TRUCK                            |\n",
            "|UNKNOWN                          |\n",
            "|AMBULANCE                        |\n",
            "|POLICE CAR/TRUCK                 |\n",
            "|MOTORCYCLE                       |\n",
            "|YELLOW SCHOOL BUS                |\n",
            "|POLICE MOTORCYCLE                |\n",
            "|PASSENGER CAR, 2-DOOR            |\n",
            "|TRUCK TRACTOR                    |\n",
            "|FARM EQUIPMENT                   |\n",
            "|NEV-NEIGHBORHOOD ELECTRIC VEHICLE|\n",
            "|OTHER  (EXPLAIN IN NARRATIVE)    |\n",
            "|NOT REPORTED                     |\n",
            "+---------------------------------+\n",
            "\n"
          ]
        }
      ]
    },
    {
      "cell_type": "code",
      "source": [
        "#cleaning the dataframe\n",
        "primary_person_use_filtered = primary_person_use.filter(~col(\"PRSN_ETHNICITY_ID\").isin([\"NA\", \"UNKNOWN\"]))\n",
        "\n",
        "values_to_remove = [\n",
        "    \"NA\",\n",
        "    \"UNKNOWN\",\n",
        "    \"NOT REPORTED\",\n",
        "    \"OTHER  (EXPLAIN IN NARRATIVE)\",\n",
        "]\n",
        "\n",
        "units_use_filtered = units_use.filter(~col(\"VEH_BODY_STYL_ID\").isin(values_to_remove))\n"
      ],
      "metadata": {
        "id": "gKDXBD142klX"
      },
      "execution_count": null,
      "outputs": []
    },
    {
      "cell_type": "code",
      "source": [
        "from pyspark.sql.window import Window"
      ],
      "metadata": {
        "id": "KzaXmfzb3-9K"
      },
      "execution_count": null,
      "outputs": []
    },
    {
      "cell_type": "code",
      "source": [
        "window_spec = Window.partitionBy(\"VEH_BODY_STYL_ID\").orderBy(F.desc(\"count\"))\n",
        "\n",
        "df = (\n",
        "    primary_person_use_filtered\n",
        "    .join(units_use_filtered, \"CRASH_ID\", \"inner\")\n",
        "    .groupBy(\"VEH_BODY_STYL_ID\", \"PRSN_ETHNICITY_ID\")\n",
        "    .agg(F.count(\"*\").alias(\"count\"))\n",
        "    .withColumn(\"row\", F.row_number().over(window_spec))\n",
        "    .filter(F.col(\"row\") == 1)\n",
        "    .drop(\"row\", \"count\")\n",
        ")\n"
      ],
      "metadata": {
        "id": "5WkCdl0c4EEw"
      },
      "execution_count": null,
      "outputs": []
    },
    {
      "cell_type": "code",
      "source": [
        "df.show()"
      ],
      "metadata": {
        "colab": {
          "base_uri": "https://localhost:8080/"
        },
        "id": "x5nH1lyF4QLa",
        "outputId": "6d77ab59-1bf3-41ab-d461-2c9bb8a22883"
      },
      "execution_count": null,
      "outputs": [
        {
          "output_type": "stream",
          "name": "stdout",
          "text": [
            "+--------------------+-----------------+\n",
            "|    VEH_BODY_STYL_ID|PRSN_ETHNICITY_ID|\n",
            "+--------------------+-----------------+\n",
            "|           AMBULANCE|            WHITE|\n",
            "|                 BUS|         HISPANIC|\n",
            "|      FARM EQUIPMENT|            WHITE|\n",
            "|          FIRE TRUCK|            WHITE|\n",
            "|          MOTORCYCLE|            WHITE|\n",
            "|NEV-NEIGHBORHOOD ...|            WHITE|\n",
            "|PASSENGER CAR, 2-...|            WHITE|\n",
            "|PASSENGER CAR, 4-...|            WHITE|\n",
            "|              PICKUP|            WHITE|\n",
            "|    POLICE CAR/TRUCK|            WHITE|\n",
            "|   POLICE MOTORCYCLE|         HISPANIC|\n",
            "|SPORT UTILITY VEH...|            WHITE|\n",
            "|               TRUCK|            WHITE|\n",
            "|       TRUCK TRACTOR|            WHITE|\n",
            "|                 VAN|            WHITE|\n",
            "|   YELLOW SCHOOL BUS|            WHITE|\n",
            "+--------------------+-----------------+\n",
            "\n"
          ]
        }
      ]
    },
    {
      "cell_type": "code",
      "source": [
        "# Analysis 8: Among the crashed cars, what are the Top 5 Zip Codes with highest number crashes with alcohols as the contributing factor to a crash (Use Driver Zip Code)"
      ],
      "metadata": {
        "id": "jl2ZQGAR4DIN"
      },
      "execution_count": null,
      "outputs": []
    },
    {
      "cell_type": "code",
      "source": [
        "# DRVR_ZIP\n",
        "units_use.select(\"CONTRIB_FACTR_1_ID\").distinct().show(truncate=False)"
      ],
      "metadata": {
        "colab": {
          "base_uri": "https://localhost:8080/"
        },
        "id": "zfEjK7Hi5smb",
        "outputId": "59a85a56-7b82-4517-cf77-8e51de78cd6e"
      },
      "execution_count": null,
      "outputs": [
        {
          "output_type": "stream",
          "name": "stdout",
          "text": [
            "+----------------------------------------+\n",
            "|CONTRIB_FACTR_1_ID                      |\n",
            "+----------------------------------------+\n",
            "|FAILED TO STOP FOR TRAIN                |\n",
            "|OVERTAKE AND PASS INSUFFICIENT CLEARANCE|\n",
            "|UNDER INFLUENCE - ALCOHOL               |\n",
            "|WRONG SIDE - NOT PASSING                |\n",
            "|TAKING MEDICATION (EXPLAIN IN NARRATIVE)|\n",
            "|IMPROPER START FROM PARKED POSITION     |\n",
            "|DISTRACTION IN VEHICLE                  |\n",
            "|UNDER INFLUENCE - DRUG                  |\n",
            "|FAILED TO YIELD ROW - TURN ON RED       |\n",
            "|NA                                      |\n",
            "|PARKED IN TRAFFIC LANE                  |\n",
            "|ILL (EXPLAIN IN NARRATIVE)              |\n",
            "|FAILED TO YIELD ROW - STOP SIGN         |\n",
            "|UNSAFE SPEED                            |\n",
            "|FAILED TO STOP AT PROPER PLACE          |\n",
            "|DISREGARD STOP SIGN OR LIGHT            |\n",
            "|FAILED TO YIELD ROW - PRIVATE DRIVE     |\n",
            "|PASSED ON RIGHT SHOULDER                |\n",
            "|DISREGARD TURN MARKS AT INTERSECTION    |\n",
            "|FAILED TO PASS TO LEFT SAFELY           |\n",
            "+----------------------------------------+\n",
            "only showing top 20 rows\n",
            "\n"
          ]
        }
      ]
    },
    {
      "cell_type": "code",
      "source": [
        "units_use.select(\"CONTRIB_FACTR_2_ID\").distinct().show(truncate=False)"
      ],
      "metadata": {
        "colab": {
          "base_uri": "https://localhost:8080/"
        },
        "id": "Rwty2-zd-Wit",
        "outputId": "9b5f367f-45ed-4123-a500-0919193e3157"
      },
      "execution_count": null,
      "outputs": [
        {
          "output_type": "stream",
          "name": "stdout",
          "text": [
            "+----------------------------------------+\n",
            "|CONTRIB_FACTR_2_ID                      |\n",
            "+----------------------------------------+\n",
            "|FAILED TO STOP FOR TRAIN                |\n",
            "|OVERTAKE AND PASS INSUFFICIENT CLEARANCE|\n",
            "|UNDER INFLUENCE - ALCOHOL               |\n",
            "|WRONG SIDE - NOT PASSING                |\n",
            "|TAKING MEDICATION (EXPLAIN IN NARRATIVE)|\n",
            "|IMPROPER START FROM PARKED POSITION     |\n",
            "|DISTRACTION IN VEHICLE                  |\n",
            "|UNDER INFLUENCE - DRUG                  |\n",
            "|FAILED TO YIELD ROW - TURN ON RED       |\n",
            "|NA                                      |\n",
            "|PARKED IN TRAFFIC LANE                  |\n",
            "|ILL (EXPLAIN IN NARRATIVE)              |\n",
            "|FAILED TO YIELD ROW - STOP SIGN         |\n",
            "|UNSAFE SPEED                            |\n",
            "|FAILED TO STOP AT PROPER PLACE          |\n",
            "|FAILED TO YIELD ROW - PRIVATE DRIVE     |\n",
            "|DISREGARD STOP SIGN OR LIGHT            |\n",
            "|PASSED ON RIGHT SHOULDER                |\n",
            "|DISREGARD TURN MARKS AT INTERSECTION    |\n",
            "|FAILED TO PASS TO LEFT SAFELY           |\n",
            "+----------------------------------------+\n",
            "only showing top 20 rows\n",
            "\n"
          ]
        }
      ]
    },
    {
      "cell_type": "code",
      "source": [
        "df = (\n",
        "    primary_person_use\n",
        "    .dropna(subset=[\"DRVR_ZIP\"])\n",
        "    .join(units_use, \"CRASH_ID\", \"inner\")\n",
        "    .filter(\n",
        "        (F.col(\"CONTRIB_FACTR_1_ID\").contains(\"ALCOHOL\")) |\n",
        "        (F.col(\"CONTRIB_FACTR_2_ID\").contains(\"ALCOHOL\"))\n",
        "    )\n",
        "    .groupBy(\"DRVR_ZIP\")\n",
        "    .count()\n",
        "    .orderBy(F.col(\"count\").desc())\n",
        "    .limit(5)\n",
        ")"
      ],
      "metadata": {
        "id": "gRWwdDHi9AaK"
      },
      "execution_count": null,
      "outputs": []
    },
    {
      "cell_type": "code",
      "source": [
        "df.show()"
      ],
      "metadata": {
        "colab": {
          "base_uri": "https://localhost:8080/"
        },
        "id": "Uf2X9r9t-4UY",
        "outputId": "741c519d-e8ca-424b-bf82-9930aa30e0c8"
      },
      "execution_count": null,
      "outputs": [
        {
          "output_type": "stream",
          "name": "stdout",
          "text": [
            "+--------+-----+\n",
            "|DRVR_ZIP|count|\n",
            "+--------+-----+\n",
            "|   76010|   75|\n",
            "|   78521|   61|\n",
            "|   75067|   54|\n",
            "|   78574|   47|\n",
            "|   75052|   43|\n",
            "+--------+-----+\n",
            "\n"
          ]
        }
      ]
    },
    {
      "cell_type": "code",
      "source": [
        "# Analysis 9: Count of Distinct Crash IDs where No Damaged Property was observed and Damage Level (VEH_DMAG_SCL~) is above 4 and car avails Insurance"
      ],
      "metadata": {
        "id": "Uxkqt1YM2RZo"
      },
      "execution_count": null,
      "outputs": []
    },
    {
      "cell_type": "code",
      "source": [
        "units_use.select(\"FIN_RESP_PROOF_ID\").distinct().show(truncate = False)"
      ],
      "metadata": {
        "colab": {
          "base_uri": "https://localhost:8080/"
        },
        "id": "EyFDXA5cFhS4",
        "outputId": "c906fc7d-7b30-4c09-ddc2-046bd0113366"
      },
      "execution_count": null,
      "outputs": [
        {
          "output_type": "stream",
          "name": "stdout",
          "text": [
            "+-----------------+\n",
            "|FIN_RESP_PROOF_ID|\n",
            "+-----------------+\n",
            "|3                |\n",
            "|NA               |\n",
            "|NR               |\n",
            "|1                |\n",
            "|4                |\n",
            "|2                |\n",
            "+-----------------+\n",
            "\n"
          ]
        }
      ]
    },
    {
      "cell_type": "code",
      "source": [
        "units_use.select(\"FIN_RESP_TYPE_ID\").distinct().show(truncate = False)"
      ],
      "metadata": {
        "colab": {
          "base_uri": "https://localhost:8080/"
        },
        "id": "MmTBWuLh_bg7",
        "outputId": "48e6816e-ba8e-4234-c61f-ea1053086dd6"
      },
      "execution_count": null,
      "outputs": [
        {
          "output_type": "stream",
          "name": "stdout",
          "text": [
            "+----------------------------------------+\n",
            "|FIN_RESP_TYPE_ID                        |\n",
            "+----------------------------------------+\n",
            "|INSURANCE BINDER                        |\n",
            "|LIABILITY INSURANCE POLICY              |\n",
            "|NA                                      |\n",
            "|CERTIFICATE OF SELF-INSURANCE           |\n",
            "|CERTIFICATE OF DEPOSIT WITH COUNTY JUDGE|\n",
            "|CERTIFICATE OF DEPOSIT WITH COMPTROLLER |\n",
            "|SURETY BOND                             |\n",
            "|PROOF OF LIABILITY INSURANCE            |\n",
            "+----------------------------------------+\n",
            "\n"
          ]
        }
      ]
    },
    {
      "cell_type": "code",
      "source": [
        "units_use.selaect(\"VEH_DMAG_SCL_1_ID\").distinct().show(truncate = False)"
      ],
      "metadata": {
        "colab": {
          "base_uri": "https://localhost:8080/"
        },
        "id": "-DFABwWBbnox",
        "outputId": "d18718c2-5c60-4335-bdd1-adc2c13954f2"
      },
      "execution_count": null,
      "outputs": [
        {
          "output_type": "stream",
          "name": "stdout",
          "text": [
            "+-----------------+\n",
            "|VEH_DMAG_SCL_1_ID|\n",
            "+-----------------+\n",
            "|DAMAGED 4        |\n",
            "|INVALID VALUE    |\n",
            "|NA               |\n",
            "|DAMAGED 5        |\n",
            "|DAMAGED 1 MINIMUM|\n",
            "|DAMAGED 3        |\n",
            "|NO DAMAGE        |\n",
            "|DAMAGED 7 HIGHEST|\n",
            "|DAMAGED 2        |\n",
            "|DAMAGED 6        |\n",
            "+-----------------+\n",
            "\n"
          ]
        }
      ]
    },
    {
      "cell_type": "markdown",
      "source": [
        "The following are considered valid insurance types for vehicles:\n",
        "\n",
        "[\n",
        "    \"INSURANCE BINDER\",\n",
        "    \"LIABILITY INSURANCE POLICY\",\n",
        "    \"CERTIFICATE OF SELF-INSURANCE\",\n",
        "    \"CERTIFICATE OF DEPOSIT WITH COUNTY JUDGE\",\n",
        "    \"CERTIFICATE OF DEPOSIT WITH COMPTROLLER\",\n",
        "    \"SURETY BOND\",\n",
        "    \"PROOF OF LIABILITY INSURANCE\"\n",
        "]"
      ],
      "metadata": {
        "id": "w7oAGnnvd0dO"
      }
    },
    {
      "cell_type": "code",
      "source": [
        "from pyspark.sql.functions import col\n",
        "\n",
        "units_use_filtered = (\n",
        "    units_use\n",
        "    .filter(\n",
        "        (\n",
        "            (col(\"VEH_DMAG_SCL_1_ID\") > \"DAMAGED 4\") &\n",
        "            ~col(\"VEH_DMAG_SCL_1_ID\").isin([\"NA\", \"NO DAMAGE\", \"INVALID VALUE\"])\n",
        "        ) &\n",
        "        (\n",
        "            (col(\"VEH_DMAG_SCL_2_ID\") > \"DAMAGED 4\") &\n",
        "            ~col(\"VEH_DMAG_SCL_2_ID\").isin([\"NA\", \"NO DAMAGE\", \"INVALID VALUE\"])\n",
        "        )\n",
        "    )\n",
        "    .filter(\n",
        "        col(\"FIN_RESP_TYPE_ID\").isin([\n",
        "            \"INSURANCE BINDER\",\n",
        "            \"LIABILITY INSURANCE POLICY\",\n",
        "            \"CERTIFICATE OF SELF-INSURANCE\",\n",
        "            \"CERTIFICATE OF DEPOSIT WITH COUNTY JUDGE\",\n",
        "            \"CERTIFICATE OF DEPOSIT WITH COMPTROLLER\",\n",
        "            \"SURETY BOND\",\n",
        "            \"PROOF OF LIABILITY INSURANCE\"\n",
        "        ])\n",
        "    )\n",
        ")\n",
        "\n",
        "damage_use_filtered = damages_use.filter(col(\"DAMAGED_PROPERTY\")==\"NONE\")"
      ],
      "metadata": {
        "id": "eEInizTObuI9"
      },
      "execution_count": null,
      "outputs": []
    },
    {
      "cell_type": "code",
      "source": [
        "df = units_use_filtered.join(damage_use_filtered, \"CRASH_ID\", \"inner\").select(\"CRASH_ID\")"
      ],
      "metadata": {
        "id": "V5KCaUAeecPx"
      },
      "execution_count": null,
      "outputs": []
    },
    {
      "cell_type": "code",
      "source": [
        "df.show()"
      ],
      "metadata": {
        "colab": {
          "base_uri": "https://localhost:8080/"
        },
        "id": "GYVqptBDH_Jh",
        "outputId": "411d112f-a335-4dcb-ff41-10f875df8cde"
      },
      "execution_count": null,
      "outputs": [
        {
          "output_type": "stream",
          "name": "stdout",
          "text": [
            "+--------+\n",
            "|CRASH_ID|\n",
            "+--------+\n",
            "+--------+\n",
            "\n"
          ]
        }
      ]
    },
    {
      "cell_type": "code",
      "source": [
        "# Analysis 10: Determine the Top 5 Vehicle Makes where drivers are charged with speeding related offences,\n",
        "# has licensed Drivers, used top 10 used vehicle colours and has car licensed with the Top 25 states with highest number\n",
        "# of offences (to be deduced from the data)"
      ],
      "metadata": {
        "id": "0e8b6bP15qsr"
      },
      "execution_count": null,
      "outputs": []
    },
    {
      "cell_type": "code",
      "source": [
        "top_10_vehicle_color = units_use.filter(col(\"VEH_COLOR_ID\")!=\"NA\").groupBy(\"VEH_COLOR_ID\").count().orderBy(col(\"count\").desc()).select(\"VEH_COLOR_ID\").limit(10).collect()"
      ],
      "metadata": {
        "id": "n_pK9duh5r3c"
      },
      "execution_count": null,
      "outputs": []
    },
    {
      "cell_type": "code",
      "source": [
        "top_10_vehicle_color_list = [row[0] for row in top_10_vehicle_color]"
      ],
      "metadata": {
        "id": "5bTrwAbXhC7q"
      },
      "execution_count": null,
      "outputs": []
    },
    {
      "cell_type": "code",
      "source": [
        "top_10_vehicle_color_list"
      ],
      "metadata": {
        "colab": {
          "base_uri": "https://localhost:8080/"
        },
        "id": "EOkrNmVrhnzP",
        "outputId": "3ae4d8a9-9aa0-4c32-c5e5-34f00f2736e4"
      },
      "execution_count": null,
      "outputs": [
        {
          "output_type": "execute_result",
          "data": {
            "text/plain": [
              "['WHI', 'BLK', 'SIL', 'GRY', 'BLU', 'RED', 'GRN', 'MAR', 'TAN', 'GLD']"
            ]
          },
          "metadata": {},
          "execution_count": 233
        }
      ]
    },
    {
      "cell_type": "code",
      "source": [
        "top_25_states_highest_nmbr_offences = units_use.filter(col(\"VEH_LIC_STATE_ID\").cast(\"int\").isNull()).groupBy(\"VEH_LIC_STATE_ID\").count().orderBy(col(\"VEH_LIC_STATE_ID\").desc()).limit(25).collect()"
      ],
      "metadata": {
        "id": "7dzyBaOAh6_z"
      },
      "execution_count": null,
      "outputs": []
    },
    {
      "cell_type": "code",
      "source": [
        "top_25_states_highest_nmbr_offences_list = [row[0] for row in top_25_states_highest_nmbr_offences]"
      ],
      "metadata": {
        "id": "qi56PHfomf3n"
      },
      "execution_count": null,
      "outputs": []
    },
    {
      "cell_type": "code",
      "source": [
        "top_25_states_highest_nmbr_offences_list"
      ],
      "metadata": {
        "colab": {
          "base_uri": "https://localhost:8080/"
        },
        "id": "H2UWviFEndyH",
        "outputId": "0bf66b67-f885-4604-88b7-720238193100"
      },
      "execution_count": null,
      "outputs": [
        {
          "output_type": "execute_result",
          "data": {
            "text/plain": [
              "['WY',\n",
              " 'WV',\n",
              " 'WI',\n",
              " 'WA',\n",
              " 'VT',\n",
              " 'VA',\n",
              " 'UT',\n",
              " 'US',\n",
              " 'UN',\n",
              " 'TX',\n",
              " 'TN',\n",
              " 'SD',\n",
              " 'SC',\n",
              " 'RI',\n",
              " 'PA',\n",
              " 'OR',\n",
              " 'OK',\n",
              " 'OH',\n",
              " 'NY',\n",
              " 'NV',\n",
              " 'NM',\n",
              " 'NJ',\n",
              " 'NH',\n",
              " 'NE',\n",
              " 'ND']"
            ]
          },
          "metadata": {},
          "execution_count": 252
        }
      ]
    },
    {
      "cell_type": "code",
      "source": [
        "units_charges_joined = (\n",
        "    units_use\n",
        "    .join(charges_use, \"CRASH_ID\", \"inner\")\n",
        "    .join(primary_person_use, \"CRASH_ID\", \"inner\")\n",
        "    .filter(col(\"CHARGE\").contains(\"SPEED\"))\n",
        "    .filter(\n",
        "        col(\"DRVR_LIC_TYPE_ID\").isin(\"COMMERCIAL DRIVER LIC.\", \"DRIVER LICENSE\")\n",
        "    )\n",
        "    .filter(\n",
        "        col(\"VEH_COLOR_ID\").isin(top_10_vehicle_color_list) &\n",
        "        col(\"VEH_LIC_STATE_ID\").isin(top_25_states_highest_nmbr_offences_list)\n",
        "    )\n",
        "    .groupBy(\"VEH_MAKE_ID\")\n",
        "    .count()\n",
        "    .orderBy(col(\"count\").desc())\n",
        "    .select(\"VEH_MAKE_ID\")\n",
        "    .limit(5)\n",
        ")"
      ],
      "metadata": {
        "id": "GxOJGUNUpVQB"
      },
      "execution_count": null,
      "outputs": []
    },
    {
      "cell_type": "code",
      "source": [
        "units_charges_joined.show()"
      ],
      "metadata": {
        "colab": {
          "base_uri": "https://localhost:8080/"
        },
        "id": "W8u4F71CnenM",
        "outputId": "d54c000e-0ecc-4412-c503-7ec4030a7267"
      },
      "execution_count": null,
      "outputs": [
        {
          "output_type": "stream",
          "name": "stdout",
          "text": [
            "+-----------+\n",
            "|VEH_MAKE_ID|\n",
            "+-----------+\n",
            "|       FORD|\n",
            "|  CHEVROLET|\n",
            "|     TOYOTA|\n",
            "|      DODGE|\n",
            "|     NISSAN|\n",
            "+-----------+\n",
            "\n"
          ]
        }
      ]
    },
    {
      "cell_type": "code",
      "source": [
        "from pyspark.sql.types import StringType, StructField, StructType\n"
      ],
      "metadata": {
        "id": "prEoznaEboo6"
      },
      "execution_count": null,
      "outputs": []
    },
    {
      "cell_type": "code",
      "source": [
        "def save_format_csv(spark, analysis_set) -> None:\n",
        "      \"\"\"\n",
        "      This function formats the output of the analysis into a DataFrame\n",
        "\n",
        "      Parameters:\n",
        "      self: An instance of the class.\n",
        "      analysis_set: The result of the analysis\n",
        "\n",
        "      Returns:\n",
        "      None\n",
        "      \"\"\"\n",
        "      # Define the schema for the DataFrame\n",
        "      schema = StructType(\n",
        "          [\n",
        "              StructField(\"analysis_no\", StringType(), True),\n",
        "              StructField(\"result\", StringType(), True),\n",
        "          ]\n",
        "      )\n",
        "\n",
        "      # Create a DataFrame from the results\n",
        "      result_df = spark.createDataFrame(analysis_set, schema=schema)\n",
        "\n",
        "      # Save the DataFrame to CSV\n",
        "      result_df.write.csv(\"data1.csv\")"
      ],
      "metadata": {
        "id": "ceLLPlMwpN76"
      },
      "execution_count": null,
      "outputs": []
    },
    {
      "cell_type": "code",
      "source": [
        "analysis_set = [\n",
        "    (\"analysis_1\", \"1\")\n",
        "]"
      ],
      "metadata": {
        "id": "RAkjhHx7bKk0"
      },
      "execution_count": null,
      "outputs": []
    },
    {
      "cell_type": "code",
      "source": [
        "save_format_csv(spark, analysis_set)"
      ],
      "metadata": {
        "id": "WZq0H4eZbdkx"
      },
      "execution_count": null,
      "outputs": []
    },
    {
      "cell_type": "code",
      "source": [],
      "metadata": {
        "id": "mHnxg7lVbk9n"
      },
      "execution_count": null,
      "outputs": []
    }
  ]
}